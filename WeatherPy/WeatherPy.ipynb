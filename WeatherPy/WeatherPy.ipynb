{
 "cells": [
  {
   "cell_type": "markdown",
   "metadata": {},
   "source": [
    "# WeatherPy\n",
    "----\n",
    "\n",
    "#### Note\n",
    "* Instructions have been included for each segment. You do not have to follow them exactly, but they are included to help you think through the steps."
   ]
  },
  {
   "cell_type": "code",
   "execution_count": 1,
   "metadata": {
    "scrolled": true
   },
   "outputs": [],
   "source": [
    "# Dependencies and Setup\n",
    "import matplotlib.pyplot as plt\n",
    "import pandas as pd\n",
    "import numpy as np\n",
    "import requests\n",
    "import time\n",
    "from scipy.stats import linregress\n",
    "\n",
    "# Import API key\n",
    "from config import weather_api_key\n",
    "\n",
    "# Incorporated citipy to determine city based on latitude and longitude\n",
    "from citipy import citipy\n",
    "\n",
    "# Output File (CSV)\n",
    "output_data_file = \"output_data/cities.csv\"\n",
    "\n",
    "# Range of latitudes and longitudes\n",
    "lat_range = (-90, 90)\n",
    "lng_range = (-180, 180)"
   ]
  },
  {
   "cell_type": "markdown",
   "metadata": {},
   "source": [
    "## Generate Cities List"
   ]
  },
  {
   "cell_type": "code",
   "execution_count": 2,
   "metadata": {},
   "outputs": [
    {
     "data": {
      "text/plain": [
       "630"
      ]
     },
     "execution_count": 2,
     "metadata": {},
     "output_type": "execute_result"
    }
   ],
   "source": [
    "# List for holding lat_lngs and cities\n",
    "lat_lngs = []\n",
    "cities = []\n",
    "\n",
    "# Create a set of random lat and lng combinations\n",
    "lats = np.random.uniform(low=-90.000, high=90.000, size=1500)\n",
    "lngs = np.random.uniform(low=-180.000, high=180.000, size=1500)\n",
    "lat_lngs = zip(lats, lngs)\n",
    "\n",
    "# Identify nearest city for each lat, lng combination\n",
    "for lat_lng in lat_lngs:\n",
    "    city = citipy.nearest_city(lat_lng[0], lat_lng[1]).city_name\n",
    "    \n",
    "    \n",
    "    # If the city is unique, then add it to a our cities list\n",
    "    if city not in cities:\n",
    "        cities.append(city)\n",
    "\n",
    "# Print the city count to confirm sufficient count\n",
    "len(cities)"
   ]
  },
  {
   "cell_type": "markdown",
   "metadata": {},
   "source": [
    "### Perform API Calls\n",
    "* Perform a weather check on each city using a series of successive API calls.\n",
    "* Include a print log of each city as it'sbeing processed (with the city number and city name).\n"
   ]
  },
  {
   "cell_type": "code",
   "execution_count": 3,
   "metadata": {},
   "outputs": [],
   "source": [
    "url = \"http://api.openweathermap.org/data/2.5/weather?units=Imperial&APPID=\" + weather_api_key\n"
   ]
  },
  {
   "cell_type": "code",
   "execution_count": 4,
   "metadata": {},
   "outputs": [
    {
     "name": "stdout",
     "output_type": "stream",
     "text": [
      "Beginning Data Retrieval\n",
      "-------------------------------------\n",
      "Processing Record 1 | Portland\n",
      "Processing Record 2 | Bredasdorp\n",
      "Processing Record 3 | Mataura\n",
      "Processing Record 4 | Isangel\n",
      "Processing Record 5 | Fort Nelson\n",
      "City not found. Skipping...\n",
      "Processing Record 6 | Nikolskoye\n",
      "Processing Record 7 | Terrace\n",
      "Processing Record 8 | Saskylakh\n",
      "Processing Record 9 | Saint-Philippe\n",
      "Processing Record 10 | Kapaa\n",
      "Processing Record 11 | George Town\n",
      "Processing Record 12 | Yagodnoye\n",
      "Processing Record 13 | Antalaha\n",
      "Processing Record 14 | Jamestown\n",
      "Processing Record 15 | Rikitea\n",
      "Processing Record 16 | Barrow\n",
      "Processing Record 17 | Punta Arenas\n",
      "Processing Record 18 | Souillac\n",
      "Processing Record 19 | Bantou\n",
      "Processing Record 20 | Ushuaia\n",
      "Processing Record 21 | Tomatlan\n",
      "Processing Record 22 | Busselton\n",
      "Processing Record 23 | Upernavik\n",
      "Processing Record 24 | Hermanus\n",
      "City not found. Skipping...\n",
      "Processing Record 25 | Geraldton\n",
      "Processing Record 26 | Butaritari\n",
      "Processing Record 27 | Lebu\n",
      "City not found. Skipping...\n",
      "Processing Record 28 | Manono\n",
      "Processing Record 29 | Hobart\n",
      "Processing Record 30 | Umm Lajj\n",
      "City not found. Skipping...\n",
      "Processing Record 31 | Phimai\n",
      "Processing Record 32 | Magalia\n",
      "Processing Record 33 | Okahandja\n",
      "Processing Record 34 | Bambous Virieux\n",
      "Processing Record 35 | Bac Lieu\n",
      "Processing Record 36 | Kaitangata\n",
      "Processing Record 37 | Bethel\n",
      "Processing Record 38 | Manitouwadge\n",
      "Processing Record 39 | Bulgan\n",
      "City not found. Skipping...\n",
      "Processing Record 40 | Westerville\n",
      "Processing Record 41 | Eugene\n",
      "Processing Record 42 | Midland\n",
      "Processing Record 43 | Whitehorse\n",
      "Processing Record 44 | Ostrovnoy\n",
      "Processing Record 45 | Mahibadhoo\n",
      "City not found. Skipping...\n",
      "Processing Record 46 | Praia\n",
      "Processing Record 47 | Mahon\n",
      "Processing Record 48 | Fortuna\n",
      "Processing Record 49 | San Cristobal\n",
      "Processing Record 50 | Lexington\n",
      "Processing Record 51 | Lagoa\n",
      "Processing Record 52 | Arman\n",
      "Processing Record 53 | Broome\n",
      "Processing Record 54 | Santa Maria\n",
      "Processing Record 55 | Kainantu\n",
      "Processing Record 56 | Talara\n",
      "Processing Record 57 | Beloha\n",
      "Processing Record 58 | Guadix\n",
      "Processing Record 59 | Bluff\n",
      "Processing Record 60 | Berlevag\n",
      "Processing Record 61 | Shihezi\n",
      "Processing Record 62 | Cape Town\n",
      "Processing Record 63 | Tuktoyaktuk\n",
      "Processing Record 64 | Stepnyak\n",
      "Processing Record 65 | Nishihara\n",
      "Processing Record 66 | Wagga Wagga\n",
      "Processing Record 67 | Ulaanbaatar\n",
      "Processing Record 68 | Srednekolymsk\n",
      "Processing Record 69 | Ponta do Sol\n",
      "Processing Record 70 | Atuona\n",
      "Processing Record 71 | Sergeevka\n",
      "Processing Record 72 | Rzhaksa\n",
      "Processing Record 73 | Jalu\n",
      "Processing Record 74 | Mar del Plata\n",
      "Processing Record 75 | Birin\n",
      "Processing Record 76 | Gavardo\n",
      "City not found. Skipping...\n",
      "Processing Record 77 | Tiksi\n",
      "Processing Record 78 | Qaanaaq\n",
      "Processing Record 79 | Thompson\n",
      "Processing Record 80 | Tasiilaq\n",
      "City not found. Skipping...\n",
      "Processing Record 81 | Pangnirtung\n",
      "Processing Record 82 | Wanning\n",
      "Processing Record 83 | Port Alfred\n",
      "Processing Record 84 | Nizhniy Lomov\n",
      "Processing Record 85 | Norman Wells\n",
      "Processing Record 86 | Saint George's\n",
      "Processing Record 87 | Ilulissat\n",
      "Processing Record 88 | Putina\n",
      "Processing Record 89 | Yellowknife\n",
      "Processing Record 90 | Margate\n",
      "City not found. Skipping...\n",
      "Processing Record 91 | Provideniya\n",
      "Processing Record 92 | Pahrump\n",
      "City not found. Skipping...\n",
      "Processing Record 93 | Meadow Lake\n",
      "Processing Record 94 | Sitka\n",
      "Processing Record 95 | Itupiranga\n",
      "City not found. Skipping...\n",
      "Processing Record 96 | Nome\n",
      "Processing Record 97 | Mareeba\n",
      "City not found. Skipping...\n",
      "Processing Record 98 | Arraial do Cabo\n",
      "Processing Record 99 | Kuybyshevo\n",
      "Processing Record 100 | Grand Gaube\n",
      "Processing Record 101 | Cherskiy\n",
      "Processing Record 102 | East London\n",
      "Processing Record 103 | Vila do Maio\n",
      "Processing Record 104 | Bitkine\n",
      "Processing Record 105 | Port Elizabeth\n",
      "City not found. Skipping...\n",
      "Processing Record 106 | 'Ewa Beach\n",
      "City not found. Skipping...\n",
      "Processing Record 107 | Avarua\n",
      "Processing Record 108 | San Quintin\n",
      "Processing Record 109 | Gainesville\n",
      "Processing Record 110 | Parabel\n",
      "Processing Record 111 | Anchorage\n",
      "Processing Record 112 | Naifaru\n",
      "Processing Record 113 | Shimoda\n",
      "Processing Record 114 | Mahebourg\n",
      "Processing Record 115 | Hualmay\n",
      "Processing Record 116 | Cabo San Lucas\n",
      "Processing Record 117 | Tarakan\n",
      "Processing Record 118 | Chumikan\n",
      "Processing Record 119 | Boyle\n",
      "Processing Record 120 | Port-Gentil\n",
      "City not found. Skipping...\n",
      "Processing Record 121 | Zlobin\n",
      "Processing Record 122 | Vanavara\n",
      "Processing Record 123 | Munai\n",
      "Processing Record 124 | Marawi\n",
      "Processing Record 125 | Shyroke\n",
      "Processing Record 126 | Yumen\n",
      "Processing Record 127 | Albany\n",
      "Processing Record 128 | Alofi\n",
      "Processing Record 129 | Sinnamary\n",
      "Processing Record 130 | Nanortalik\n",
      "Processing Record 131 | Raja\n",
      "Processing Record 132 | Jumla\n",
      "Processing Record 133 | Cayenne\n",
      "Processing Record 134 | Cartagena\n",
      "Processing Record 135 | Mezen\n",
      "Processing Record 136 | Grahamstown\n",
      "Processing Record 137 | Leningradskiy\n",
      "Processing Record 138 | Rio Tercero\n",
      "Processing Record 139 | Nalut\n",
      "City not found. Skipping...\n",
      "Processing Record 140 | Constitucion\n",
      "Processing Record 141 | Pecos\n",
      "Processing Record 142 | Qaqortoq\n",
      "City not found. Skipping...\n",
      "Processing Record 143 | Clyde River\n",
      "Processing Record 144 | Carnarvon\n",
      "Processing Record 145 | Gigmoto\n",
      "Processing Record 146 | Tera\n",
      "Processing Record 147 | Chui\n",
      "Processing Record 148 | Baykit\n",
      "City not found. Skipping...\n",
      "Processing Record 149 | Auki\n",
      "Processing Record 150 | Vaini\n",
      "Processing Record 151 | Hasaki\n",
      "Processing Record 152 | Sembakung\n",
      "Processing Record 153 | Onalaska\n",
      "Processing Record 154 | Brae\n",
      "Processing Record 155 | Chokurdakh\n",
      "Processing Record 156 | Patos\n",
      "Processing Record 157 | Kruisfontein\n",
      "Processing Record 158 | Belaya Gora\n",
      "Processing Record 159 | Ketchikan\n",
      "City not found. Skipping...\n",
      "Processing Record 160 | Buenaventura\n",
      "Processing Record 161 | Mayo\n",
      "Processing Record 162 | Tabuk\n",
      "Processing Record 163 | Airai\n",
      "Processing Record 164 | Obidos\n",
      "Processing Record 165 | Tagusao\n",
      "Processing Record 166 | Kavieng\n",
      "Processing Record 167 | Iqaluit\n",
      "Processing Record 168 | Rundu\n",
      "Processing Record 169 | Cockburn Town\n",
      "Processing Record 170 | Lavrentiya\n",
      "Processing Record 171 | Illela\n",
      "Processing Record 172 | Port Macquarie\n",
      "Processing Record 173 | Tuatapere\n",
      "Processing Record 174 | Ahipara\n",
      "Processing Record 175 | Dikson\n",
      "Processing Record 176 | Telimele\n",
      "Processing Record 177 | Priverno\n",
      "Processing Record 178 | Kawhia\n",
      "Processing Record 179 | Pullman\n",
      "City not found. Skipping...\n",
      "Processing Record 180 | Paracatu\n",
      "Processing Record 181 | Ust-Kuyga\n",
      "Processing Record 182 | Springbok\n",
      "Processing Record 183 | Lata\n",
      "Processing Record 184 | Inhambane\n",
      "Processing Record 185 | Assiut\n",
      "Processing Record 186 | Panjakent\n",
      "Processing Record 187 | Atbasar\n",
      "Processing Record 188 | Castro\n",
      "Processing Record 189 | Front Royal\n",
      "Processing Record 190 | Northam\n",
      "Processing Record 191 | Machinga\n",
      "Processing Record 192 | Butte\n",
      "Processing Record 193 | Yeppoon\n",
      "Processing Record 194 | Saurimo\n",
      "City not found. Skipping...\n",
      "Processing Record 195 | Ventspils\n",
      "Processing Record 196 | Yulara\n",
      "Processing Record 197 | Rakaia\n",
      "Processing Record 198 | Ribeira Grande\n",
      "Processing Record 199 | Puerto Ayora\n",
      "Processing Record 200 | Pevek\n",
      "City not found. Skipping...\n",
      "Processing Record 201 | Guadalupe y Calvo\n",
      "Processing Record 202 | Sao Filipe\n",
      "Processing Record 203 | New Norfolk\n",
      "Processing Record 204 | La Encarnacion\n",
      "Processing Record 205 | Rodniki\n",
      "Processing Record 206 | Inzer\n",
      "Processing Record 207 | Muroto\n",
      "Processing Record 208 | Kaitong\n",
      "Processing Record 209 | Dunedin\n",
      "City not found. Skipping...\n",
      "Processing Record 210 | Bambanglipuro\n",
      "Processing Record 211 | Zinder\n",
      "Processing Record 212 | Atar\n",
      "Processing Record 213 | Huicungo\n",
      "Processing Record 214 | Egvekinot\n",
      "Processing Record 215 | Kifri\n",
      "Processing Record 216 | Hong Gai\n",
      "Processing Record 217 | Lumeje\n",
      "Processing Record 218 | Bilma\n",
      "City not found. Skipping...\n",
      "Processing Record 219 | Lieksa\n",
      "Processing Record 220 | Arteaga\n",
      "Processing Record 221 | Isla Vista\n",
      "Processing Record 222 | Listvyanka\n",
      "City not found. Skipping...\n",
      "Processing Record 223 | Novyy Urengoy\n",
      "City not found. Skipping...\n",
      "Processing Record 224 | Umm Kaddadah\n",
      "Processing Record 225 | Dnipryany\n",
      "City not found. Skipping...\n",
      "Processing Record 226 | Hong Kong\n"
     ]
    },
    {
     "name": "stdout",
     "output_type": "stream",
     "text": [
      "Processing Record 227 | Inongo\n",
      "Processing Record 228 | Tilichiki\n",
      "Processing Record 229 | Pendleton\n",
      "Processing Record 230 | Sheridan\n",
      "Processing Record 231 | Richards Bay\n",
      "Processing Record 232 | Payo\n",
      "Processing Record 233 | Katsuura\n",
      "Processing Record 234 | Boa Vista\n",
      "Processing Record 235 | Huangmei\n",
      "Processing Record 236 | Karpathos\n",
      "Processing Record 237 | Mitsamiouli\n",
      "Processing Record 238 | Huarmey\n",
      "Processing Record 239 | Shenjiamen\n",
      "Processing Record 240 | Zhigalovo\n",
      "Processing Record 241 | Zhanaozen\n",
      "Processing Record 242 | Cidreira\n",
      "Processing Record 243 | Port Blair\n",
      "Processing Record 244 | Tiznit\n",
      "Processing Record 245 | Saint George\n",
      "Processing Record 246 | Nieuw Amsterdam\n",
      "Processing Record 247 | Hofn\n",
      "Processing Record 248 | Klaksvik\n",
      "Processing Record 249 | Rio Grande\n",
      "Processing Record 250 | Boulder City\n",
      "Processing Record 251 | Bongouanou\n",
      "Processing Record 252 | Anito\n",
      "Processing Record 253 | Bograd\n",
      "Processing Record 254 | Galbshtadt\n",
      "Processing Record 255 | Artyom\n",
      "Processing Record 256 | Bismil\n",
      "Processing Record 257 | Temyasovo\n",
      "Processing Record 258 | Beringovskiy\n",
      "Processing Record 259 | Kuala Pilah\n",
      "Processing Record 260 | Bengkulu\n",
      "Processing Record 261 | Solnechnyy\n",
      "Processing Record 262 | Yangjiang\n",
      "Processing Record 263 | Balikpapan\n",
      "Processing Record 264 | Evensk\n",
      "Processing Record 265 | Keskin\n",
      "Processing Record 266 | Dhidhdhoo\n",
      "Processing Record 267 | Pakxan\n",
      "Processing Record 268 | Erdenet\n",
      "Processing Record 269 | Heihe\n",
      "Processing Record 270 | Flinders\n",
      "Processing Record 271 | Churapcha\n",
      "Processing Record 272 | Te Anau\n",
      "Processing Record 273 | Oksfjord\n",
      "Processing Record 274 | Faanui\n",
      "Processing Record 275 | Kisangani\n",
      "City not found. Skipping...\n",
      "Processing Record 276 | Longyearbyen\n",
      "Processing Record 277 | Meulaboh\n",
      "Processing Record 278 | Reading\n",
      "Processing Record 279 | Chapais\n",
      "Processing Record 280 | Port Hardy\n",
      "Processing Record 281 | Portobelo\n",
      "Processing Record 282 | Kolokani\n",
      "Processing Record 283 | Santa Catarina de Tepehuanes\n",
      "Processing Record 284 | Kurilsk\n",
      "Processing Record 285 | Hilo\n",
      "City not found. Skipping...\n",
      "Processing Record 286 | Santa Luzia\n",
      "Processing Record 287 | Innisfail\n",
      "Processing Record 288 | Kindersley\n",
      "Processing Record 289 | Pachmarhi\n",
      "Processing Record 290 | Joshimath\n",
      "Processing Record 291 | Veraval\n",
      "Processing Record 292 | Lorengau\n",
      "City not found. Skipping...\n",
      "Processing Record 293 | Parkersburg\n",
      "Processing Record 294 | Khandyga\n",
      "Processing Record 295 | Buinsk\n",
      "Processing Record 296 | Kazachinskoye\n",
      "Processing Record 297 | Vieques\n",
      "Processing Record 298 | Taylorville\n",
      "Processing Record 299 | Raudeberg\n",
      "Processing Record 300 | Villanueva de Cordoba\n",
      "City not found. Skipping...\n",
      "Processing Record 301 | Tirodi\n",
      "Processing Record 302 | Shitanjing\n",
      "Processing Record 303 | Coquimbo\n",
      "Processing Record 304 | Porto-Novo\n",
      "Processing Record 305 | Aripuana\n",
      "Processing Record 306 | Quatre Cocos\n",
      "Processing Record 307 | Poum\n",
      "Processing Record 308 | Campo Grande\n",
      "City not found. Skipping...\n",
      "Processing Record 309 | Mount Pleasant\n",
      "Processing Record 310 | Hithadhoo\n",
      "Processing Record 311 | Karaton\n",
      "Processing Record 312 | Tessalit\n",
      "Processing Record 313 | Saint-Pierre\n",
      "Processing Record 314 | Half Moon Bay\n",
      "Processing Record 315 | Bud\n",
      "Processing Record 316 | Sungaipenuh\n",
      "Processing Record 317 | Bathsheba\n",
      "City not found. Skipping...\n",
      "Processing Record 318 | Ponta Delgada\n",
      "Processing Record 319 | Seoul\n",
      "Processing Record 320 | Preobrazheniye\n",
      "Processing Record 321 | Avera\n",
      "Processing Record 322 | Jiuquan\n",
      "Processing Record 323 | Skibbereen\n",
      "Processing Record 324 | Ambulu\n",
      "Processing Record 325 | Necochea\n",
      "Processing Record 326 | Kiryat Gat\n",
      "Processing Record 327 | Departamento de Maldonado\n",
      "Processing Record 328 | Iskateley\n",
      "Processing Record 329 | Abha\n",
      "Processing Record 330 | Shelburne\n",
      "Processing Record 331 | Torbay\n",
      "Processing Record 332 | Bollnaes\n",
      "Processing Record 333 | Mount Isa\n",
      "Processing Record 334 | Farah\n",
      "Processing Record 335 | Amapa\n",
      "Processing Record 336 | Mazagao\n",
      "Processing Record 337 | Port Hawkesbury\n",
      "Processing Record 338 | Andenes\n",
      "Processing Record 339 | Borogontsy\n",
      "Processing Record 340 | Forsytheganj\n",
      "Processing Record 341 | Winona\n",
      "Processing Record 342 | Narsaq\n",
      "City not found. Skipping...\n",
      "Processing Record 343 | Labuhan\n",
      "Processing Record 344 | Cabo Rojo\n",
      "Processing Record 345 | Shahr-e Kord\n",
      "Processing Record 346 | Ayan\n",
      "Processing Record 347 | Winchester\n",
      "Processing Record 348 | Sirte\n",
      "Processing Record 349 | Coxim\n",
      "Processing Record 350 | Nantucket\n",
      "Processing Record 351 | Balkanabat\n",
      "Processing Record 352 | Kodiak\n",
      "Processing Record 353 | Port Hedland\n",
      "Processing Record 354 | Kholmskaya\n",
      "Processing Record 355 | Guaraniacu\n",
      "Processing Record 356 | Brigantine\n",
      "Processing Record 357 | Cap Malheureux\n",
      "Processing Record 358 | Brandon\n",
      "City not found. Skipping...\n",
      "Processing Record 359 | Agirish\n",
      "City not found. Skipping...\n",
      "Processing Record 360 | Esperance\n",
      "Processing Record 361 | Eureka\n",
      "Processing Record 362 | Odesskoye\n",
      "Processing Record 363 | Charters Towers\n",
      "Processing Record 364 | Parsabad\n",
      "Processing Record 365 | Khatanga\n",
      "Processing Record 366 | Kaseda\n",
      "Processing Record 367 | Langsa\n",
      "City not found. Skipping...\n",
      "Processing Record 368 | Kayseri\n",
      "Processing Record 369 | Paranhos\n",
      "Processing Record 370 | Rawson\n",
      "Processing Record 371 | Yei\n",
      "City not found. Skipping...\n",
      "Processing Record 372 | Bintulu\n",
      "City not found. Skipping...\n",
      "Processing Record 373 | Muzaffarabad\n",
      "Processing Record 374 | Srandakan\n",
      "Processing Record 375 | Gorin\n",
      "Processing Record 376 | Moree\n",
      "Processing Record 377 | Florence\n",
      "Processing Record 378 | Wum\n",
      "Processing Record 379 | Balkhash\n",
      "Processing Record 380 | College\n",
      "Processing Record 381 | Peniche\n",
      "Processing Record 382 | Ochakiv\n",
      "Processing Record 383 | El Alto\n",
      "Processing Record 384 | Road Town\n",
      "Processing Record 385 | Plover\n",
      "Processing Record 386 | Port Lincoln\n",
      "City not found. Skipping...\n",
      "Processing Record 387 | Mingguang\n",
      "Processing Record 388 | Roald\n",
      "City not found. Skipping...\n",
      "Processing Record 389 | Ust'-Omchug\n",
      "Processing Record 390 | Menongue\n",
      "Processing Record 391 | Gazojak\n",
      "Processing Record 392 | Aksu\n",
      "Processing Record 393 | Cantapoy\n",
      "Processing Record 394 | Sao Sebastiao\n",
      "Processing Record 395 | Flagstaff\n",
      "Processing Record 396 | Beira\n",
      "Processing Record 397 | Pale\n",
      "Processing Record 398 | Tura\n",
      "City not found. Skipping...\n",
      "Processing Record 399 | Kudahuvadhoo\n",
      "Processing Record 400 | Thinadhoo\n",
      "City not found. Skipping...\n",
      "Processing Record 401 | Ossora\n",
      "Processing Record 402 | Kloulklubed\n",
      "Processing Record 403 | Don Luan\n",
      "Processing Record 404 | Port Moresby\n",
      "Processing Record 405 | Akom\n",
      "Processing Record 406 | Rio Gallegos\n",
      "Processing Record 407 | Nuuk\n",
      "City not found. Skipping...\n",
      "Processing Record 408 | Beidao\n",
      "Processing Record 409 | Banepa\n",
      "Processing Record 410 | Tieling\n",
      "Processing Record 411 | Tsimmerbude\n",
      "Processing Record 412 | Bukachacha\n",
      "Processing Record 413 | Bo Rai\n",
      "Processing Record 414 | Saalfeld\n",
      "Processing Record 415 | Omsukchan\n",
      "Processing Record 416 | Dongsheng\n",
      "Processing Record 417 | Villarrica\n",
      "Processing Record 418 | Ulladulla\n",
      "Processing Record 419 | Poya\n",
      "Processing Record 420 | Rabo de Peixe\n",
      "Processing Record 421 | Kodino\n",
      "Processing Record 422 | Ilo\n",
      "Processing Record 423 | Mossendjo\n",
      "Processing Record 424 | Riyadh\n",
      "Processing Record 425 | Tooele\n",
      "City not found. Skipping...\n",
      "Processing Record 426 | San Miguel de Tucuman\n",
      "Processing Record 427 | North Bend\n",
      "Processing Record 428 | Codrington\n",
      "Processing Record 429 | Aklavik\n",
      "Processing Record 430 | Karakol\n",
      "Processing Record 431 | Chateaubelair\n",
      "Processing Record 432 | Marabu\n",
      "Processing Record 433 | Kavaratti\n",
      "Processing Record 434 | Povenets\n",
      "Processing Record 435 | Tawang\n",
      "Processing Record 436 | Morecambe\n",
      "Processing Record 437 | Santa Isabel do Rio Negro\n",
      "Processing Record 438 | Trapani\n",
      "Processing Record 439 | Tezu\n",
      "Processing Record 440 | Nioro\n",
      "Processing Record 441 | Bouloupari\n",
      "Processing Record 442 | Seymchan\n",
      "Processing Record 443 | Soni\n",
      "Processing Record 444 | Kirakira\n",
      "Processing Record 445 | Tarboro\n",
      "Processing Record 446 | Yining\n",
      "Processing Record 447 | Darhan\n",
      "Processing Record 448 | Pochutla\n",
      "Processing Record 449 | Weligama\n",
      "Processing Record 450 | San Jose\n",
      "Processing Record 451 | Teculutan\n",
      "Processing Record 452 | Sola\n",
      "Processing Record 453 | Biak\n",
      "Processing Record 454 | Teya\n",
      "Processing Record 455 | Pervomayskoye\n",
      "Processing Record 456 | Acarau\n"
     ]
    },
    {
     "name": "stdout",
     "output_type": "stream",
     "text": [
      "Processing Record 457 | Varzea Grande\n",
      "Processing Record 458 | High Rock\n",
      "Processing Record 459 | Babu\n",
      "Processing Record 460 | Port Antonio\n",
      "Processing Record 461 | Laguna\n",
      "Processing Record 462 | Bilibino\n",
      "Processing Record 463 | Ereymentau\n",
      "Processing Record 464 | Mumford\n",
      "City not found. Skipping...\n",
      "Processing Record 465 | Vardo\n",
      "Processing Record 466 | Virginia Beach\n",
      "Processing Record 467 | Havelock\n",
      "Processing Record 468 | Bulungu\n",
      "Processing Record 469 | Esim\n",
      "Processing Record 470 | Asau\n",
      "Processing Record 471 | Namtsy\n",
      "Processing Record 472 | Luderitz\n",
      "Processing Record 473 | Panaba\n",
      "Processing Record 474 | Weihe\n",
      "City not found. Skipping...\n",
      "Processing Record 475 | Takoradze\n",
      "Processing Record 476 | Miyako\n",
      "Processing Record 477 | Pontinha\n",
      "Processing Record 478 | Dalvik\n",
      "Processing Record 479 | Saint-Andre-les-Vergers\n",
      "Processing Record 480 | Strezhevoy\n",
      "Processing Record 481 | Tautira\n",
      "Processing Record 482 | Kahului\n",
      "Processing Record 483 | Kanash\n",
      "Processing Record 484 | Killam\n",
      "City not found. Skipping...\n",
      "Processing Record 485 | Fort-Shevchenko\n",
      "Processing Record 486 | Tangwani\n",
      "Processing Record 487 | Hamilton\n",
      "Processing Record 488 | Arrifes\n",
      "Processing Record 489 | Vestmannaeyjar\n",
      "Processing Record 490 | Launceston\n",
      "Processing Record 491 | Turbat\n",
      "Processing Record 492 | Barra Patuca\n",
      "Processing Record 493 | Boke\n",
      "City not found. Skipping...\n",
      "Processing Record 494 | Kanigiri\n",
      "Processing Record 495 | Mackenzie\n",
      "Processing Record 496 | Balsas\n",
      "Processing Record 497 | Sault Ste. Marie\n",
      "Processing Record 498 | Mount Gambier\n",
      "City not found. Skipping...\n",
      "Processing Record 499 | Kroya\n",
      "Processing Record 500 | Yangi Marg`ilon\n",
      "Processing Record 501 | Talusan\n",
      "Processing Record 502 | Gaspe\n",
      "City not found. Skipping...\n",
      "Processing Record 503 | Tanout\n",
      "Processing Record 504 | Nuevo Progreso\n",
      "Processing Record 505 | Westport\n",
      "Processing Record 506 | Knysna\n",
      "Processing Record 507 | Harper\n",
      "Processing Record 508 | Kungurtug\n",
      "Processing Record 509 | Along\n",
      "Processing Record 510 | Gorontalo\n",
      "Processing Record 511 | Wajid\n",
      "City not found. Skipping...\n",
      "Processing Record 512 | Batagay\n",
      "Processing Record 513 | Yabrud\n",
      "Processing Record 514 | Anadyr\n",
      "Processing Record 515 | Bougouni\n",
      "Processing Record 516 | Banda Aceh\n",
      "City not found. Skipping...\n",
      "Processing Record 517 | Matagami\n",
      "City not found. Skipping...\n",
      "Processing Record 518 | Aksarka\n",
      "Processing Record 519 | Verkh-Usugli\n",
      "Processing Record 520 | Adrar\n",
      "Processing Record 521 | Hobyo\n",
      "Processing Record 522 | Ulukulevo\n",
      "City not found. Skipping...\n",
      "Processing Record 523 | General Roca\n",
      "Processing Record 524 | Muros\n",
      "Processing Record 525 | Ape\n",
      "Processing Record 526 | Conde\n",
      "Processing Record 527 | Salalah\n",
      "Processing Record 528 | Miraflores\n",
      "Processing Record 529 | Pyatnitskoye\n",
      "Processing Record 530 | Marsh Harbour\n",
      "Processing Record 531 | Tubuala\n",
      "Processing Record 532 | Dukat\n",
      "Processing Record 533 | Manuk Mangkaw\n",
      "Processing Record 534 | Severo-Kuril'sk\n",
      "Processing Record 535 | Mossamedes\n",
      "Processing Record 536 | Rorvik\n",
      "Processing Record 537 | Tungor\n",
      "Processing Record 538 | Apac\n",
      "Processing Record 539 | Seminole\n",
      "Processing Record 540 | Zabaykalsk\n",
      "Processing Record 541 | Faya\n",
      "Processing Record 542 | Chenzhou\n",
      "Processing Record 543 | Arrondissement de Pau\n",
      "Processing Record 544 | Waitati\n",
      "Processing Record 545 | Scottsbluff\n",
      "Processing Record 546 | Bay Roberts\n",
      "Processing Record 547 | Rocha\n",
      "Processing Record 548 | Itaporanga\n",
      "Processing Record 549 | Muroran\n",
      "Processing Record 550 | Port Keats\n",
      "Processing Record 551 | Stephenville\n",
      "Processing Record 552 | Loukhi\n",
      "Processing Record 553 | Karratha\n",
      "Processing Record 554 | Camana\n",
      "Processing Record 555 | Jiutai\n",
      "Processing Record 556 | Barabai\n",
      "Processing Record 557 | Manado\n",
      "Processing Record 558 | Eyl\n",
      "Processing Record 559 | Swan River\n",
      "Processing Record 560 | Killybegs\n",
      "Processing Record 561 | Altamont\n",
      "Processing Record 562 | Tolmachevo\n",
      "Processing Record 563 | Nara\n",
      "Processing Record 564 | Viedma\n",
      "Processing Record 565 | Megion\n",
      "Processing Record 566 | Sorkjosen\n",
      "Processing Record 567 | Singaraja\n",
      "Processing Record 568 | Barguzin\n",
      "Processing Record 569 | Anloga\n",
      "Processing Record 570 | Santo Antonio do Ica\n",
      "Processing Record 571 | Hanna\n",
      "Processing Record 572 | Burriana\n",
      "Processing Record 573 | Champerico\n",
      "Processing Record 574 | San Andres\n",
      "Processing Record 575 | Mogocha\n"
     ]
    }
   ],
   "source": [
    "#City\tCloudiness\tCountry\tDate\tHumidity\tLat\tLng\tMax Temp\tWind Speed\n",
    "\n",
    "city_name = []\n",
    "cloudiness = []\n",
    "country = []\n",
    "date = []\n",
    "humidity = []\n",
    "latitude = []\n",
    "longitude = []\n",
    "max_temperature = []\n",
    "wind_speed = []\n",
    "\n",
    "\n",
    "counter= 1\n",
    "\n",
    "print(f\"Beginning Data Retrieval\")\n",
    "print(f\"-------------------------------------\")\n",
    "\n",
    "for city in cities:  \n",
    "    \n",
    "    try: \n",
    "        response = requests.get(f\"{url}&q={city}\").json() \n",
    "        city_name.append(response[\"name\"])\n",
    "        cloudiness.append(response[\"clouds\"][\"all\"])\n",
    "        country.append(response[\"sys\"][\"country\"])\n",
    "        date.append(response[\"dt\"])\n",
    "        humidity.append(response[\"main\"][\"humidity\"])\n",
    "        latitude.append(response[\"coord\"][\"lat\"])\n",
    "        longitude.append(response[\"coord\"][\"lon\"])\n",
    "        max_temperature.append(response[\"main\"][\"temp_max\"])\n",
    "        wind_speed.append(response[\"wind\"][\"speed\"])\n",
    "        response_city = response[\"name\"]\n",
    "        print(f\"Processing Record {counter} | {response_city}\")\n",
    "        \n",
    "        counter= counter + 1\n",
    "        \n",
    "        time.sleep(1.5)\n",
    "        \n",
    "    except:\n",
    "        print(\"City not found. Skipping...\")\n",
    "    continue\n",
    "\n",
    "    "
   ]
  },
  {
   "cell_type": "markdown",
   "metadata": {},
   "source": [
    "### Convert Raw Data to DataFrame\n",
    "* Export the city data into a .csv.\n",
    "* Display the DataFrame"
   ]
  },
  {
   "cell_type": "code",
   "execution_count": 8,
   "metadata": {},
   "outputs": [
    {
     "data": {
      "text/html": [
       "<div>\n",
       "<style scoped>\n",
       "    .dataframe tbody tr th:only-of-type {\n",
       "        vertical-align: middle;\n",
       "    }\n",
       "\n",
       "    .dataframe tbody tr th {\n",
       "        vertical-align: top;\n",
       "    }\n",
       "\n",
       "    .dataframe thead th {\n",
       "        text-align: right;\n",
       "    }\n",
       "</style>\n",
       "<table border=\"1\" class=\"dataframe\">\n",
       "  <thead>\n",
       "    <tr style=\"text-align: right;\">\n",
       "      <th></th>\n",
       "      <th>City</th>\n",
       "      <th>Cloudiness</th>\n",
       "      <th>Country</th>\n",
       "      <th>Date</th>\n",
       "      <th>Humidity</th>\n",
       "      <th>Latitude</th>\n",
       "      <th>Longitude</th>\n",
       "      <th>Temperature</th>\n",
       "      <th>Wind Speed (mph)</th>\n",
       "    </tr>\n",
       "  </thead>\n",
       "  <tbody>\n",
       "    <tr>\n",
       "      <td>0</td>\n",
       "      <td>Portland</td>\n",
       "      <td>90</td>\n",
       "      <td>US</td>\n",
       "      <td>1579838530</td>\n",
       "      <td>87</td>\n",
       "      <td>45.52</td>\n",
       "      <td>-122.68</td>\n",
       "      <td>54.00</td>\n",
       "      <td>11.41</td>\n",
       "    </tr>\n",
       "    <tr>\n",
       "      <td>1</td>\n",
       "      <td>Bredasdorp</td>\n",
       "      <td>81</td>\n",
       "      <td>ZA</td>\n",
       "      <td>1579838709</td>\n",
       "      <td>88</td>\n",
       "      <td>-34.53</td>\n",
       "      <td>20.04</td>\n",
       "      <td>66.00</td>\n",
       "      <td>4.70</td>\n",
       "    </tr>\n",
       "    <tr>\n",
       "      <td>2</td>\n",
       "      <td>Mataura</td>\n",
       "      <td>100</td>\n",
       "      <td>NZ</td>\n",
       "      <td>1579838711</td>\n",
       "      <td>42</td>\n",
       "      <td>-46.19</td>\n",
       "      <td>168.86</td>\n",
       "      <td>83.55</td>\n",
       "      <td>3.49</td>\n",
       "    </tr>\n",
       "    <tr>\n",
       "      <td>3</td>\n",
       "      <td>Isangel</td>\n",
       "      <td>75</td>\n",
       "      <td>VU</td>\n",
       "      <td>1579838712</td>\n",
       "      <td>58</td>\n",
       "      <td>-19.55</td>\n",
       "      <td>169.27</td>\n",
       "      <td>87.80</td>\n",
       "      <td>17.22</td>\n",
       "    </tr>\n",
       "    <tr>\n",
       "      <td>4</td>\n",
       "      <td>Fort Nelson</td>\n",
       "      <td>90</td>\n",
       "      <td>CA</td>\n",
       "      <td>1579838169</td>\n",
       "      <td>92</td>\n",
       "      <td>58.81</td>\n",
       "      <td>-122.70</td>\n",
       "      <td>14.00</td>\n",
       "      <td>3.36</td>\n",
       "    </tr>\n",
       "    <tr>\n",
       "      <td>...</td>\n",
       "      <td>...</td>\n",
       "      <td>...</td>\n",
       "      <td>...</td>\n",
       "      <td>...</td>\n",
       "      <td>...</td>\n",
       "      <td>...</td>\n",
       "      <td>...</td>\n",
       "      <td>...</td>\n",
       "      <td>...</td>\n",
       "    </tr>\n",
       "    <tr>\n",
       "      <td>570</td>\n",
       "      <td>Hanna</td>\n",
       "      <td>93</td>\n",
       "      <td>CA</td>\n",
       "      <td>1579839664</td>\n",
       "      <td>91</td>\n",
       "      <td>51.63</td>\n",
       "      <td>-111.90</td>\n",
       "      <td>19.99</td>\n",
       "      <td>4.00</td>\n",
       "    </tr>\n",
       "    <tr>\n",
       "      <td>571</td>\n",
       "      <td>Burriana</td>\n",
       "      <td>90</td>\n",
       "      <td>ES</td>\n",
       "      <td>1579839666</td>\n",
       "      <td>100</td>\n",
       "      <td>39.89</td>\n",
       "      <td>-0.09</td>\n",
       "      <td>50.00</td>\n",
       "      <td>2.24</td>\n",
       "    </tr>\n",
       "    <tr>\n",
       "      <td>572</td>\n",
       "      <td>Champerico</td>\n",
       "      <td>9</td>\n",
       "      <td>GT</td>\n",
       "      <td>1579839368</td>\n",
       "      <td>82</td>\n",
       "      <td>14.30</td>\n",
       "      <td>-91.92</td>\n",
       "      <td>74.01</td>\n",
       "      <td>5.10</td>\n",
       "    </tr>\n",
       "    <tr>\n",
       "      <td>573</td>\n",
       "      <td>San Andres</td>\n",
       "      <td>40</td>\n",
       "      <td>CO</td>\n",
       "      <td>1579839669</td>\n",
       "      <td>69</td>\n",
       "      <td>12.58</td>\n",
       "      <td>-81.70</td>\n",
       "      <td>78.80</td>\n",
       "      <td>6.93</td>\n",
       "    </tr>\n",
       "    <tr>\n",
       "      <td>574</td>\n",
       "      <td>Mogocha</td>\n",
       "      <td>35</td>\n",
       "      <td>RU</td>\n",
       "      <td>1579839670</td>\n",
       "      <td>85</td>\n",
       "      <td>53.73</td>\n",
       "      <td>119.77</td>\n",
       "      <td>-13.07</td>\n",
       "      <td>2.80</td>\n",
       "    </tr>\n",
       "  </tbody>\n",
       "</table>\n",
       "<p>575 rows × 9 columns</p>\n",
       "</div>"
      ],
      "text/plain": [
       "            City  Cloudiness Country        Date  Humidity  Latitude  \\\n",
       "0       Portland          90      US  1579838530        87     45.52   \n",
       "1     Bredasdorp          81      ZA  1579838709        88    -34.53   \n",
       "2        Mataura         100      NZ  1579838711        42    -46.19   \n",
       "3        Isangel          75      VU  1579838712        58    -19.55   \n",
       "4    Fort Nelson          90      CA  1579838169        92     58.81   \n",
       "..           ...         ...     ...         ...       ...       ...   \n",
       "570        Hanna          93      CA  1579839664        91     51.63   \n",
       "571     Burriana          90      ES  1579839666       100     39.89   \n",
       "572   Champerico           9      GT  1579839368        82     14.30   \n",
       "573   San Andres          40      CO  1579839669        69     12.58   \n",
       "574      Mogocha          35      RU  1579839670        85     53.73   \n",
       "\n",
       "     Longitude  Temperature  Wind Speed (mph)  \n",
       "0      -122.68        54.00             11.41  \n",
       "1        20.04        66.00              4.70  \n",
       "2       168.86        83.55              3.49  \n",
       "3       169.27        87.80             17.22  \n",
       "4      -122.70        14.00              3.36  \n",
       "..         ...          ...               ...  \n",
       "570    -111.90        19.99              4.00  \n",
       "571      -0.09        50.00              2.24  \n",
       "572     -91.92        74.01              5.10  \n",
       "573     -81.70        78.80              6.93  \n",
       "574     119.77       -13.07              2.80  \n",
       "\n",
       "[575 rows x 9 columns]"
      ]
     },
     "execution_count": 8,
     "metadata": {},
     "output_type": "execute_result"
    }
   ],
   "source": [
    "#dataframe\n",
    "\n",
    "weather_df = pd.DataFrame({\n",
    "    \"City\": city_name,\n",
    "    \"Cloudiness\": cloudiness,\n",
    "    \"Country\": country,\n",
    "    \"Date\": date,\n",
    "    \"Humidity\": humidity,\n",
    "    \"Latitude\": latitude,\n",
    "    \"Longitude\": longitude,\n",
    "    \"Temperature\": max_temperature,\n",
    "    \"Wind Speed (mph)\": wind_speed,\n",
    "})\n",
    "weather_df\n",
    "\n"
   ]
  },
  {
   "cell_type": "code",
   "execution_count": 9,
   "metadata": {},
   "outputs": [],
   "source": [
    "#csv\n",
    "\n",
    "weather_df.to_csv(\"weather_df.csv\", encoding=\"utf-8\", index=False)\n",
    "\n"
   ]
  },
  {
   "cell_type": "markdown",
   "metadata": {},
   "source": [
    "### Plotting the Data\n",
    "* Use proper labeling of the plots using plot titles (including date of analysis) and axes labels.\n",
    "* Save the plotted figures as .pngs."
   ]
  },
  {
   "cell_type": "markdown",
   "metadata": {},
   "source": [
    "#### Latitude vs. Temperature Plot"
   ]
  },
  {
   "cell_type": "code",
   "execution_count": 14,
   "metadata": {
    "scrolled": true
   },
   "outputs": [
    {
     "data": {
      "image/png": "[encoded data removed]",
      "text/plain": [
       "<Figure size 432x288 with 1 Axes>"
      ]
     },
     "metadata": {
      "needs_background": "light"
     },
     "output_type": "display_data"
    }
   ],
   "source": [
    "weather_df.plot(x=\"Latitude\", y=\"Temperature\", kind='scatter', legend=False)\n",
    "plt.title(\"City Latitude vs. Max Temperature\")\n",
    "plt.xlabel(\"Latitude\")\n",
    "plt.ylabel(\"Max Temperature (F)\")\n",
    "plt.savefig(\"Lat_vs_Temp.png\")\n",
    "plt.show()\n",
    "\n",
    "#The plot is showing that temperature is higher toward the equator (near 0 degrees latitude),\n",
    "#and that temperature drops as latitude nears the north/south poles."
   ]
  },
  {
   "cell_type": "markdown",
   "metadata": {},
   "source": [
    "#### Latitude vs. Humidity Plot"
   ]
  },
  {
   "cell_type": "code",
   "execution_count": 15,
   "metadata": {},
   "outputs": [
    {
     "data": {
      "image/png": "[encoded data removed]",
      "text/plain": [
       "<Figure size 432x288 with 1 Axes>"
      ]
     },
     "metadata": {
      "needs_background": "light"
     },
     "output_type": "display_data"
    }
   ],
   "source": [
    "weather_df.plot(x=\"Latitude\", y=\"Humidity\", kind='scatter', legend=False)\n",
    "plt.title(\"City Latitude vs. Humidity\")\n",
    "plt.xlabel(\"Latitude\")\n",
    "plt.ylabel(\"Humidity (%)\")\n",
    "plt.savefig(\"Lat_vs_Hum.png\")\n",
    "plt.show()\n",
    "\n",
    "#The plot is showing that humidity can happen at any latitude and the two are not correlated."
   ]
  },
  {
   "cell_type": "markdown",
   "metadata": {},
   "source": [
    "#### Latitude vs. Cloudiness Plot"
   ]
  },
  {
   "cell_type": "code",
   "execution_count": 16,
   "metadata": {},
   "outputs": [
    {
     "data": {
      "image/png": "[encoded data removed]",
      "text/plain": [
       "<Figure size 432x288 with 1 Axes>"
      ]
     },
     "metadata": {
      "needs_background": "light"
     },
     "output_type": "display_data"
    }
   ],
   "source": [
    "weather_df.plot(x=\"Latitude\", y=\"Cloudiness\", kind='scatter', legend=False)\n",
    "plt.title(\"City Latitude vs. Cloudiness\")\n",
    "plt.xlabel(\"Latitude\")\n",
    "plt.ylabel(\"Cloudiness (%)\")\n",
    "plt.savefig(\"Lat_vs_Cloud.png\")\n",
    "plt.show()\n",
    "\n",
    "#The plot is showing that cloudiness can happen at any latitude and the two are not correlated."
   ]
  },
  {
   "cell_type": "markdown",
   "metadata": {},
   "source": [
    "#### Latitude vs. Wind Speed Plot"
   ]
  },
  {
   "cell_type": "code",
   "execution_count": 17,
   "metadata": {},
   "outputs": [
    {
     "data": {
      "image/png": "[encoded data removed]",
      "text/plain": [
       "<Figure size 432x288 with 1 Axes>"
      ]
     },
     "metadata": {
      "needs_background": "light"
     },
     "output_type": "display_data"
    }
   ],
   "source": [
    "weather_df.plot(x=\"Latitude\", y=\"Wind Speed (mph)\", kind='scatter', legend=False)\n",
    "plt.title(\"City Latitude vs. Wind Speed\")\n",
    "plt.xlabel(\"Latitude\")\n",
    "plt.ylabel(\"Wind Speed (mph)\")\n",
    "plt.savefig(\"Lat_vs_Wind.png\")\n",
    "plt.show()\n",
    "\n",
    "#The plot is showing that wind speed is not determined by latitude and generally wind speed is not higher than 30 mph."
   ]
  },
  {
   "cell_type": "markdown",
   "metadata": {},
   "source": [
    "## Linear Regression"
   ]
  },
  {
   "cell_type": "code",
   "execution_count": null,
   "metadata": {},
   "outputs": [],
   "source": [
    "# OPTIONAL: Create a function to create Linear Regression plots\n"
   ]
  },
  {
   "cell_type": "code",
   "execution_count": 20,
   "metadata": {},
   "outputs": [
    {
     "data": {
      "text/html": [
       "<div>\n",
       "<style scoped>\n",
       "    .dataframe tbody tr th:only-of-type {\n",
       "        vertical-align: middle;\n",
       "    }\n",
       "\n",
       "    .dataframe tbody tr th {\n",
       "        vertical-align: top;\n",
       "    }\n",
       "\n",
       "    .dataframe thead th {\n",
       "        text-align: right;\n",
       "    }\n",
       "</style>\n",
       "<table border=\"1\" class=\"dataframe\">\n",
       "  <thead>\n",
       "    <tr style=\"text-align: right;\">\n",
       "      <th></th>\n",
       "      <th>City</th>\n",
       "      <th>Cloudiness</th>\n",
       "      <th>Country</th>\n",
       "      <th>Date</th>\n",
       "      <th>Humidity</th>\n",
       "      <th>Latitude</th>\n",
       "      <th>Longitude</th>\n",
       "      <th>Temperature</th>\n",
       "      <th>Wind Speed (mph)</th>\n",
       "    </tr>\n",
       "  </thead>\n",
       "  <tbody>\n",
       "    <tr>\n",
       "      <td>0</td>\n",
       "      <td>Portland</td>\n",
       "      <td>90</td>\n",
       "      <td>US</td>\n",
       "      <td>1579838530</td>\n",
       "      <td>87</td>\n",
       "      <td>45.52</td>\n",
       "      <td>-122.68</td>\n",
       "      <td>54.00</td>\n",
       "      <td>11.41</td>\n",
       "    </tr>\n",
       "    <tr>\n",
       "      <td>4</td>\n",
       "      <td>Fort Nelson</td>\n",
       "      <td>90</td>\n",
       "      <td>CA</td>\n",
       "      <td>1579838169</td>\n",
       "      <td>92</td>\n",
       "      <td>58.81</td>\n",
       "      <td>-122.70</td>\n",
       "      <td>14.00</td>\n",
       "      <td>3.36</td>\n",
       "    </tr>\n",
       "    <tr>\n",
       "      <td>5</td>\n",
       "      <td>Nikolskoye</td>\n",
       "      <td>90</td>\n",
       "      <td>RU</td>\n",
       "      <td>1579838716</td>\n",
       "      <td>94</td>\n",
       "      <td>59.70</td>\n",
       "      <td>30.79</td>\n",
       "      <td>36.00</td>\n",
       "      <td>13.42</td>\n",
       "    </tr>\n",
       "    <tr>\n",
       "      <td>6</td>\n",
       "      <td>Terrace</td>\n",
       "      <td>90</td>\n",
       "      <td>CA</td>\n",
       "      <td>1579838717</td>\n",
       "      <td>100</td>\n",
       "      <td>54.52</td>\n",
       "      <td>-128.60</td>\n",
       "      <td>33.80</td>\n",
       "      <td>2.24</td>\n",
       "    </tr>\n",
       "    <tr>\n",
       "      <td>7</td>\n",
       "      <td>Saskylakh</td>\n",
       "      <td>62</td>\n",
       "      <td>RU</td>\n",
       "      <td>1579838303</td>\n",
       "      <td>94</td>\n",
       "      <td>71.92</td>\n",
       "      <td>114.08</td>\n",
       "      <td>-34.92</td>\n",
       "      <td>14.12</td>\n",
       "    </tr>\n",
       "  </tbody>\n",
       "</table>\n",
       "</div>"
      ],
      "text/plain": [
       "          City  Cloudiness Country        Date  Humidity  Latitude  Longitude  \\\n",
       "0     Portland          90      US  1579838530        87     45.52    -122.68   \n",
       "4  Fort Nelson          90      CA  1579838169        92     58.81    -122.70   \n",
       "5   Nikolskoye          90      RU  1579838716        94     59.70      30.79   \n",
       "6      Terrace          90      CA  1579838717       100     54.52    -128.60   \n",
       "7    Saskylakh          62      RU  1579838303        94     71.92     114.08   \n",
       "\n",
       "   Temperature  Wind Speed (mph)  \n",
       "0        54.00             11.41  \n",
       "4        14.00              3.36  \n",
       "5        36.00             13.42  \n",
       "6        33.80              2.24  \n",
       "7       -34.92             14.12  "
      ]
     },
     "execution_count": 20,
     "metadata": {},
     "output_type": "execute_result"
    }
   ],
   "source": [
    "# Create Northern and Southern Hemisphere DataFrames\n",
    "\n",
    "northern_hem = weather_df.loc[weather_df['Latitude'] >0]\n",
    "northern_hem.head()\n"
   ]
  },
  {
   "cell_type": "code",
   "execution_count": 21,
   "metadata": {},
   "outputs": [
    {
     "data": {
      "text/html": [
       "<div>\n",
       "<style scoped>\n",
       "    .dataframe tbody tr th:only-of-type {\n",
       "        vertical-align: middle;\n",
       "    }\n",
       "\n",
       "    .dataframe tbody tr th {\n",
       "        vertical-align: top;\n",
       "    }\n",
       "\n",
       "    .dataframe thead th {\n",
       "        text-align: right;\n",
       "    }\n",
       "</style>\n",
       "<table border=\"1\" class=\"dataframe\">\n",
       "  <thead>\n",
       "    <tr style=\"text-align: right;\">\n",
       "      <th></th>\n",
       "      <th>City</th>\n",
       "      <th>Cloudiness</th>\n",
       "      <th>Country</th>\n",
       "      <th>Date</th>\n",
       "      <th>Humidity</th>\n",
       "      <th>Latitude</th>\n",
       "      <th>Longitude</th>\n",
       "      <th>Temperature</th>\n",
       "      <th>Wind Speed (mph)</th>\n",
       "    </tr>\n",
       "  </thead>\n",
       "  <tbody>\n",
       "    <tr>\n",
       "      <td>1</td>\n",
       "      <td>Bredasdorp</td>\n",
       "      <td>81</td>\n",
       "      <td>ZA</td>\n",
       "      <td>1579838709</td>\n",
       "      <td>88</td>\n",
       "      <td>-34.53</td>\n",
       "      <td>20.04</td>\n",
       "      <td>66.00</td>\n",
       "      <td>4.70</td>\n",
       "    </tr>\n",
       "    <tr>\n",
       "      <td>2</td>\n",
       "      <td>Mataura</td>\n",
       "      <td>100</td>\n",
       "      <td>NZ</td>\n",
       "      <td>1579838711</td>\n",
       "      <td>42</td>\n",
       "      <td>-46.19</td>\n",
       "      <td>168.86</td>\n",
       "      <td>83.55</td>\n",
       "      <td>3.49</td>\n",
       "    </tr>\n",
       "    <tr>\n",
       "      <td>3</td>\n",
       "      <td>Isangel</td>\n",
       "      <td>75</td>\n",
       "      <td>VU</td>\n",
       "      <td>1579838712</td>\n",
       "      <td>58</td>\n",
       "      <td>-19.55</td>\n",
       "      <td>169.27</td>\n",
       "      <td>87.80</td>\n",
       "      <td>17.22</td>\n",
       "    </tr>\n",
       "    <tr>\n",
       "      <td>8</td>\n",
       "      <td>Saint-Philippe</td>\n",
       "      <td>100</td>\n",
       "      <td>RE</td>\n",
       "      <td>1579838721</td>\n",
       "      <td>94</td>\n",
       "      <td>-21.36</td>\n",
       "      <td>55.77</td>\n",
       "      <td>78.80</td>\n",
       "      <td>6.93</td>\n",
       "    </tr>\n",
       "    <tr>\n",
       "      <td>12</td>\n",
       "      <td>Antalaha</td>\n",
       "      <td>100</td>\n",
       "      <td>MG</td>\n",
       "      <td>1579838727</td>\n",
       "      <td>77</td>\n",
       "      <td>-14.90</td>\n",
       "      <td>50.28</td>\n",
       "      <td>81.28</td>\n",
       "      <td>4.14</td>\n",
       "    </tr>\n",
       "  </tbody>\n",
       "</table>\n",
       "</div>"
      ],
      "text/plain": [
       "              City  Cloudiness Country        Date  Humidity  Latitude  \\\n",
       "1       Bredasdorp          81      ZA  1579838709        88    -34.53   \n",
       "2          Mataura         100      NZ  1579838711        42    -46.19   \n",
       "3          Isangel          75      VU  1579838712        58    -19.55   \n",
       "8   Saint-Philippe         100      RE  1579838721        94    -21.36   \n",
       "12        Antalaha         100      MG  1579838727        77    -14.90   \n",
       "\n",
       "    Longitude  Temperature  Wind Speed (mph)  \n",
       "1       20.04        66.00              4.70  \n",
       "2      168.86        83.55              3.49  \n",
       "3      169.27        87.80             17.22  \n",
       "8       55.77        78.80              6.93  \n",
       "12      50.28        81.28              4.14  "
      ]
     },
     "execution_count": 21,
     "metadata": {},
     "output_type": "execute_result"
    }
   ],
   "source": [
    "southern_hem = weather_df.loc[weather_df['Latitude'] <0]\n",
    "southern_hem.head()"
   ]
  },
  {
   "cell_type": "markdown",
   "metadata": {},
   "source": [
    "####  Northern Hemisphere - Max Temp vs. Latitude Linear Regression"
   ]
  },
  {
   "cell_type": "code",
   "execution_count": 37,
   "metadata": {},
   "outputs": [
    {
     "data": {
      "image/png": "[encoded data removed]",
      "text/plain": [
       "<Figure size 432x288 with 1 Axes>"
      ]
     },
     "metadata": {
      "needs_background": "light"
     },
     "output_type": "display_data"
    },
    {
     "name": "stdout",
     "output_type": "stream",
     "text": [
      "The r-squared is: -0.8669456654291166\n"
     ]
    }
   ],
   "source": [
    "x_values = northern_hem['Latitude']\n",
    "y_values = northern_hem['Temperature']\n",
    "(slope, intercept, rvalue, pvalue, stderr) = linregress(x_values, y_values)\n",
    "regress_values = x_values * slope + intercept\n",
    "line_eq = \"y = \" + str(round(slope,2)) + \"x + \" + str(round(intercept,2))\n",
    "plt.scatter(x_values,y_values)\n",
    "plt.plot(x_values,regress_values,\"r-\")\n",
    "plt.annotate(line_eq,(0,1),fontsize=1,color=\"red\")\n",
    "plt.title(\"Max Temp vs. Latitude (Northern Hemisphere)\")\n",
    "plt.xlabel(\"Latitude\")\n",
    "plt.ylabel(\"Max Temp (F)\")\n",
    "plt.show()\n",
    "\n",
    "print(f\"The r-squared is: {rvalue}\")"
   ]
  },
  {
   "cell_type": "markdown",
   "metadata": {},
   "source": [
    "####  Southern Hemisphere - Max Temp vs. Latitude Linear Regression"
   ]
  },
  {
   "cell_type": "code",
   "execution_count": 38,
   "metadata": {},
   "outputs": [
    {
     "data": {
      "image/png": "[encoded data removed]",
      "text/plain": [
       "<Figure size 432x288 with 1 Axes>"
      ]
     },
     "metadata": {
      "needs_background": "light"
     },
     "output_type": "display_data"
    },
    {
     "name": "stdout",
     "output_type": "stream",
     "text": [
      "The r-squared is: 0.40758423107487535\n"
     ]
    }
   ],
   "source": [
    "x_values = southern_hem['Latitude']\n",
    "y_values = southern_hem['Temperature']\n",
    "(slope, intercept, rvalue, pvalue, stderr) = linregress(x_values, y_values)\n",
    "regress_values = x_values * slope + intercept\n",
    "line_eq = \"y = \" + str(round(slope,2)) + \"x + \" + str(round(intercept,2))\n",
    "plt.scatter(x_values,y_values)\n",
    "plt.plot(x_values,regress_values,\"r-\")\n",
    "plt.annotate(line_eq,(0,1),fontsize=1,color=\"red\")\n",
    "plt.title(\"Max Temp vs. Latitude (Southern Hemisphere)\")\n",
    "plt.xlabel(\"Latitude\")\n",
    "plt.ylabel(\"Max Temp (F)\")\n",
    "plt.show()\n",
    "\n",
    "print(f\"The r-squared is: {rvalue}\")"
   ]
  },
  {
   "cell_type": "code",
   "execution_count": null,
   "metadata": {},
   "outputs": [],
   "source": [
    "# After analyzing max temperatures versus both the northern and southern hempispheres,\n",
    "# it appears the northern hemisphere has a more drastic temperature change toward the north pole.\n",
    "# It might be safe to assume that it is currently winter in the northern hemisphere."
   ]
  },
  {
   "cell_type": "markdown",
   "metadata": {},
   "source": [
    "####  Northern Hemisphere - Humidity (%) vs. Latitude Linear Regression"
   ]
  },
  {
   "cell_type": "code",
   "execution_count": 39,
   "metadata": {},
   "outputs": [
    {
     "data": {
      "image/png": "[encoded data removed]",
      "text/plain": [
       "<Figure size 432x288 with 1 Axes>"
      ]
     },
     "metadata": {
      "needs_background": "light"
     },
     "output_type": "display_data"
    },
    {
     "name": "stdout",
     "output_type": "stream",
     "text": [
      "The r-squared is: 0.3714927606075245\n"
     ]
    }
   ],
   "source": [
    "x_values = northern_hem['Latitude']\n",
    "y_values = northern_hem['Humidity']\n",
    "(slope, intercept, rvalue, pvalue, stderr) = linregress(x_values, y_values)\n",
    "regress_values = x_values * slope + intercept\n",
    "line_eq = \"y = \" + str(round(slope,2)) + \"x + \" + str(round(intercept,2))\n",
    "plt.scatter(x_values,y_values)\n",
    "plt.plot(x_values,regress_values,\"r-\")\n",
    "plt.annotate(line_eq,(0,1),fontsize=1,color=\"red\")\n",
    "plt.title(\"Humidity vs. Latitude (Northern Hemisphere)\")\n",
    "plt.xlabel(\"Latitude\")\n",
    "plt.ylabel(\"Humidity (%)\")\n",
    "plt.show()\n",
    "\n",
    "print(f\"The r-squared is: {rvalue}\")"
   ]
  },
  {
   "cell_type": "markdown",
   "metadata": {},
   "source": [
    "####  Southern Hemisphere - Humidity (%) vs. Latitude Linear Regression"
   ]
  },
  {
   "cell_type": "code",
   "execution_count": 40,
   "metadata": {},
   "outputs": [
    {
     "data": {
      "image/png": "[encoded data removed]",
      "text/plain": [
       "<Figure size 432x288 with 1 Axes>"
      ]
     },
     "metadata": {
      "needs_background": "light"
     },
     "output_type": "display_data"
    },
    {
     "name": "stdout",
     "output_type": "stream",
     "text": [
      "The r-squared is: 0.24324791016015396\n"
     ]
    }
   ],
   "source": [
    "x_values = southern_hem['Latitude']\n",
    "y_values = southern_hem['Humidity']\n",
    "(slope, intercept, rvalue, pvalue, stderr) = linregress(x_values, y_values)\n",
    "regress_values = x_values * slope + intercept\n",
    "line_eq = \"y = \" + str(round(slope,2)) + \"x + \" + str(round(intercept,2))\n",
    "plt.scatter(x_values,y_values)\n",
    "plt.plot(x_values,regress_values,\"r-\")\n",
    "plt.annotate(line_eq,(0,1),fontsize=1,color=\"red\")\n",
    "plt.title(\"Humidity vs. Latitude (Southern Hemisphere)\")\n",
    "plt.xlabel(\"Latitude\")\n",
    "plt.ylabel(\"Humidity (%)\")\n",
    "plt.show()\n",
    "\n",
    "print(f\"The r-squared is: {rvalue}\")"
   ]
  },
  {
   "cell_type": "code",
   "execution_count": null,
   "metadata": {},
   "outputs": [],
   "source": [
    "# After analyzing humidity versus both the northern and southern hempispheres, it does not appear \n",
    "# that they are correlated to each other. Both hemisphers seem to be within the 60-80% range."
   ]
  },
  {
   "cell_type": "markdown",
   "metadata": {},
   "source": [
    "####  Northern Hemisphere - Cloudiness (%) vs. Latitude Linear Regression"
   ]
  },
  {
   "cell_type": "code",
   "execution_count": 41,
   "metadata": {},
   "outputs": [
    {
     "data": {
      "image/png": "[encoded data removed]",
      "text/plain": [
       "<Figure size 432x288 with 1 Axes>"
      ]
     },
     "metadata": {
      "needs_background": "light"
     },
     "output_type": "display_data"
    },
    {
     "name": "stdout",
     "output_type": "stream",
     "text": [
      "The r-squared is: 0.262276803492793\n"
     ]
    }
   ],
   "source": [
    "x_values = northern_hem['Latitude']\n",
    "y_values = northern_hem['Cloudiness']\n",
    "(slope, intercept, rvalue, pvalue, stderr) = linregress(x_values, y_values)\n",
    "regress_values = x_values * slope + intercept\n",
    "line_eq = \"y = \" + str(round(slope,2)) + \"x + \" + str(round(intercept,2))\n",
    "plt.scatter(x_values,y_values)\n",
    "plt.plot(x_values,regress_values,\"r-\")\n",
    "plt.annotate(line_eq,(0,1),fontsize=1,color=\"red\")\n",
    "plt.title(\"Cloudiness vs. Latitude (Northern Hemisphere)\")\n",
    "plt.xlabel(\"Latitude\")\n",
    "plt.ylabel(\"Cloudiness (%)\")\n",
    "plt.show()\n",
    "\n",
    "print(f\"The r-squared is: {rvalue}\")"
   ]
  },
  {
   "cell_type": "markdown",
   "metadata": {},
   "source": [
    "####  Southern Hemisphere - Cloudiness (%) vs. Latitude Linear Regression"
   ]
  },
  {
   "cell_type": "code",
   "execution_count": 42,
   "metadata": {},
   "outputs": [
    {
     "data": {
      "image/png": "[encoded data removed]",
      "text/plain": [
       "<Figure size 432x288 with 1 Axes>"
      ]
     },
     "metadata": {
      "needs_background": "light"
     },
     "output_type": "display_data"
    },
    {
     "name": "stdout",
     "output_type": "stream",
     "text": [
      "The r-squared is: 0.0946544306970873\n"
     ]
    }
   ],
   "source": [
    "x_values = southern_hem['Latitude']\n",
    "y_values = southern_hem['Cloudiness']\n",
    "(slope, intercept, rvalue, pvalue, stderr) = linregress(x_values, y_values)\n",
    "regress_values = x_values * slope + intercept\n",
    "line_eq = \"y = \" + str(round(slope,2)) + \"x + \" + str(round(intercept,2))\n",
    "plt.scatter(x_values,y_values)\n",
    "plt.plot(x_values,regress_values,\"r-\")\n",
    "plt.annotate(line_eq,(0,1),fontsize=1,color=\"red\")\n",
    "plt.title(\"Cloudiness vs. Latitude (Southern Hemisphere)\")\n",
    "plt.xlabel(\"Latitude\")\n",
    "plt.ylabel(\"Cloudiness (%)\")\n",
    "plt.show()\n",
    "\n",
    "print(f\"The r-squared is: {rvalue}\")"
   ]
  },
  {
   "cell_type": "code",
   "execution_count": null,
   "metadata": {},
   "outputs": [],
   "source": [
    "# After analyzing cloudiness versus both the northern and southern hempispheres, it does not appear \n",
    "# that they are correlated to each other. The r-squared value is very low.  Clouds can happen anywhere."
   ]
  },
  {
   "cell_type": "markdown",
   "metadata": {},
   "source": [
    "####  Northern Hemisphere - Wind Speed (mph) vs. Latitude Linear Regression"
   ]
  },
  {
   "cell_type": "code",
   "execution_count": 43,
   "metadata": {},
   "outputs": [
    {
     "data": {
      "image/png": "[encoded data removed]",
      "text/plain": [
       "<Figure size 432x288 with 1 Axes>"
      ]
     },
     "metadata": {
      "needs_background": "light"
     },
     "output_type": "display_data"
    },
    {
     "name": "stdout",
     "output_type": "stream",
     "text": [
      "The r-squared is: 0.16447910242751237\n"
     ]
    }
   ],
   "source": [
    "x_values = northern_hem['Latitude']\n",
    "y_values = northern_hem['Wind Speed (mph)']\n",
    "(slope, intercept, rvalue, pvalue, stderr) = linregress(x_values, y_values)\n",
    "regress_values = x_values * slope + intercept\n",
    "line_eq = \"y = \" + str(round(slope,2)) + \"x + \" + str(round(intercept,2))\n",
    "plt.scatter(x_values,y_values)\n",
    "plt.plot(x_values,regress_values,\"r-\")\n",
    "plt.annotate(line_eq,(0,1),fontsize=1,color=\"red\")\n",
    "plt.title(\"Wind Speed vs. Latitude (Northern Hemisphere)\")\n",
    "plt.xlabel(\"Latitude\")\n",
    "plt.ylabel(\"Wind Speed (mph)\")\n",
    "plt.show()\n",
    "\n",
    "print(f\"The r-squared is: {rvalue}\")"
   ]
  },
  {
   "cell_type": "markdown",
   "metadata": {},
   "source": [
    "####  Southern Hemisphere - Wind Speed (mph) vs. Latitude Linear Regression"
   ]
  },
  {
   "cell_type": "code",
   "execution_count": 44,
   "metadata": {},
   "outputs": [
    {
     "data": {
      "image/png": "[encoded data removed]",
      "text/plain": [
       "<Figure size 432x288 with 1 Axes>"
      ]
     },
     "metadata": {
      "needs_background": "light"
     },
     "output_type": "display_data"
    },
    {
     "name": "stdout",
     "output_type": "stream",
     "text": [
      "The r-squared is: -0.4841465490523159\n"
     ]
    }
   ],
   "source": [
    "x_values = southern_hem['Latitude']\n",
    "y_values = southern_hem['Wind Speed (mph)']\n",
    "(slope, intercept, rvalue, pvalue, stderr) = linregress(x_values, y_values)\n",
    "regress_values = x_values * slope + intercept\n",
    "line_eq = \"y = \" + str(round(slope,2)) + \"x + \" + str(round(intercept,2))\n",
    "plt.scatter(x_values,y_values)\n",
    "plt.plot(x_values,regress_values,\"r-\")\n",
    "plt.annotate(line_eq,(0,1),fontsize=1,color=\"red\")\n",
    "plt.title(\"Wind Speed vs. Latitude (Southern Hemisphere)\")\n",
    "plt.xlabel(\"Latitude\")\n",
    "plt.ylabel(\"Wind Speed (mph)\")\n",
    "plt.show()\n",
    "\n",
    "print(f\"The r-squared is: {rvalue}\")"
   ]
  },
  {
   "cell_type": "code",
   "execution_count": null,
   "metadata": {},
   "outputs": [],
   "source": [
    "# The northern hemisphere appears to have light wind across all latitudes while the southern hemisphere appears\n",
    "# to get windier toward the south pole."
   ]
  }
 ],
 "metadata": {
  "anaconda-cloud": {},
  "kernel_info": {
   "name": "python3"
  },
  "kernelspec": {
   "display_name": "Python 3",
   "language": "python",
   "name": "python3"
  },
  "language_info": {
   "codemirror_mode": {
    "name": "ipython",
    "version": 3
   },
   "file_extension": ".py",
   "mimetype": "text/x-python",
   "name": "python",
   "nbconvert_exporter": "python",
   "pygments_lexer": "ipython3",
   "version": "3.7.4"
  },
  "latex_envs": {
   "LaTeX_envs_menu_present": true,
   "autoclose": false,
   "autocomplete": true,
   "bibliofile": "biblio.bib",
   "cite_by": "apalike",
   "current_citInitial": 1,
   "eqLabelWithNumbers": true,
   "eqNumInitial": 1,
   "hotkeys": {
    "equation": "Ctrl-E",
    "itemize": "Ctrl-I"
   },
   "labels_anchors": false,
   "latex_user_defs": false,
   "report_style_numbering": false,
   "user_envs_cfg": false
  },
  "nteract": {
   "version": "0.12.3"
  }
 },
 "nbformat": 4,
 "nbformat_minor": 2
}
